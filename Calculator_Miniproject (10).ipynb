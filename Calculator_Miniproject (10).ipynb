{
 "cells": [
  {
   "cell_type": "markdown",
   "metadata": {
    "id": "ZoX1vsne78hk"
   },
   "source": [
    "**Write a program to make a calculator which perform operations like Addition , Subtraction , Multiplication etc on Two numbers input by the user.**"
   ]
  },
  {
   "cell_type": "code",
   "execution_count": 6,
   "metadata": {
    "id": "6Sy0uQp78Y8p"
   },
   "outputs": [
    {
     "name": "stdout",
     "output_type": "stream",
     "text": [
      "Select any one operation\n",
      "1.Addition\n",
      "2.substraction\n",
      "3.multiplication\n",
      "4.division\n",
      "Enter your choice(1,2,3,4)3\n",
      "Enter first number5\n",
      "Enter second number3\n",
      "5.0 * 3.0 = 15.0\n",
      "Do you want calculations ?( yes/no)no\n"
     ]
    }
   ],
   "source": [
    "def addition(a,b):\n",
    "    x=a+b\n",
    "    return x\n",
    "  \n",
    "def substraction(a,b):\n",
    "    y=a-b\n",
    "    return y\n",
    "\n",
    "def multiplication(a,b):\n",
    "    z=a*b\n",
    "    return z\n",
    "\n",
    "def division(a,b):\n",
    "    d=a/b\n",
    "    return d\n",
    "\n",
    "print(\"Select any one operation\")\n",
    "print(\"1.Addition\")\n",
    "print(\"2.substraction\")\n",
    "print(\"3.multiplication\")\n",
    "print(\"4.division\")\n",
    "\n",
    "      \n",
    "while True:\n",
    "    \n",
    "    choice=input(\"Enter your choice(1,2,3,4)\" :)\n",
    "    if choice in ('1','2','3','4'):\n",
    "        \n",
    "        num1=float(input(\"Enter first number\"))\n",
    "        num2=float(input(\"Enter second number\"))\n",
    "        \n",
    "        if choice=='1':\n",
    "            print(num1 ,'+', num2 ,'=', addition(num1,num2))\n",
    "        elif choice=='2':\n",
    "            print(num1, '-', num2, '=', substraction(num1,num2))\n",
    "        elif choice=='3':\n",
    "            print(num1 ,'*', num2, '=',multiplication(num1,num2))\n",
    "        elif choice=='4':\n",
    "            print(num1, '/', num2, '=', division(num1,num2))\n",
    "            \n",
    "        cal=(input(\"Do you want calculations ?( yes/no) :\"))\n",
    "        if cal=='no':\n",
    "           break\n",
    "    else:\n",
    "        print(\"invalid\")\n",
    "       \n",
    "        \n",
    "    \n",
    "        \n",
    "        \n",
    "      "
   ]
  },
  {
   "cell_type": "code",
   "execution_count": null,
   "metadata": {},
   "outputs": [],
   "source": [
    "def calculation(a,b):\n",
    "    "
   ]
  },
  {
   "cell_type": "code",
   "execution_count": null,
   "metadata": {},
   "outputs": [],
   "source": []
  }
 ],
 "metadata": {
  "colab": {
   "authorship_tag": "ABX9TyNe8YZD5btoP1UW6AbLYric",
   "name": "Untitled0.ipynb",
   "provenance": []
  },
  "kernelspec": {
   "display_name": "Python 3",
   "language": "python",
   "name": "python3"
  },
  "language_info": {
   "codemirror_mode": {
    "name": "ipython",
    "version": 3
   },
   "file_extension": ".py",
   "mimetype": "text/x-python",
   "name": "python",
   "nbconvert_exporter": "python",
   "pygments_lexer": "ipython3",
   "version": "3.8.8"
  }
 },
 "nbformat": 4,
 "nbformat_minor": 1
}
