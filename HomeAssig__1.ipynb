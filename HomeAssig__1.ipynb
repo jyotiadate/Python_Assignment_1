{
 "cells": [
  {
   "cell_type": "markdown",
   "metadata": {
    "id": "x6BAlryiT1Km"
   },
   "source": [
    "1. Complete the below code to print out the data types of following variables."
   ]
  },
  {
   "cell_type": "code",
   "execution_count": null,
   "metadata": {
    "id": "Uoo0h2aQT7Ms"
   },
   "outputs": [],
   "source": [
    "x = 56\n",
    "y = 35.2\n",
    "z = 'Decodr Technologies'\n",
    "# Write your code from here\n"
   ]
  },
  {
   "cell_type": "markdown",
   "metadata": {
    "id": "h26GNOcyUjkb"
   },
   "source": [
    "2. Print out the output using the given variable as follows: **The cost of 4 items of price 30 each is 120**"
   ]
  },
  {
   "cell_type": "code",
   "execution_count": null,
   "metadata": {
    "id": "o5XeHyVBV_5q"
   },
   "outputs": [],
   "source": [
    "total_items = 4\n",
    "item_price = 30\n",
    "total_cost = 120\n",
    "# Write your code from here\n"
   ]
  },
  {
   "cell_type": "markdown",
   "metadata": {
    "id": "vCROVHI_WB5X"
   },
   "source": [
    "3. Write a code which takes a person name, age, height, weight and store them in a form of list."
   ]
  },
  {
   "cell_type": "code",
   "execution_count": null,
   "metadata": {
    "id": "tuM_d52QWkJp"
   },
   "outputs": [],
   "source": [
    "# Write your code from here\n"
   ]
  },
  {
   "cell_type": "markdown",
   "metadata": {
    "id": "yh8sT2yeWlSw"
   },
   "source": [
    "4. Write a code to count the number of characters in this given string below:"
   ]
  },
  {
   "cell_type": "code",
   "execution_count": null,
   "metadata": {
    "id": "DoZ3vSoCXBg3"
   },
   "outputs": [],
   "source": [
    "string = 'Welcome to Decodr Technologies'\n",
    "# Write your code from here\n"
   ]
  },
  {
   "cell_type": "markdown",
   "metadata": {
    "id": "mVTmfCjMXL93"
   },
   "source": [
    "5. From the given string below, extract mobile number only."
   ]
  },
  {
   "cell_type": "code",
   "execution_count": null,
   "metadata": {
    "id": "vssCnptuXyWK"
   },
   "outputs": [],
   "source": [
    "z = 'Hello! My name is Yaman and my mobile number is 8594382256'\n",
    "# Write your code from here\n"
   ]
  },
  {
   "cell_type": "markdown",
   "metadata": {
    "id": "ajliHj48YCi8"
   },
   "source": [
    "6. Take 3 numbers from user and print the greatest number between them."
   ]
  },
  {
   "cell_type": "code",
   "execution_count": 1,
   "metadata": {
    "id": "GEfn3Nn9YivM"
   },
   "outputs": [
    {
     "name": "stdout",
     "output_type": "stream",
     "text": [
      "Enter the 1st number : 23\n",
      "Enter the 2nd number : 89\n",
      "Enter the 3rd number : 73\n"
     ]
    },
    {
     "data": {
      "text/plain": [
       "89"
      ]
     },
     "execution_count": 1,
     "metadata": {},
     "output_type": "execute_result"
    }
   ],
   "source": [
    "# Write your code from here\n",
    "a = int(input(\"Enter the 1st number : \"))\n",
    "b = int(input(\"Enter the 2nd number : \"))\n",
    "c = int(input(\"Enter the 3rd number : \"))\n",
    "max(a,b,c)\n"
   ]
  },
  {
   "cell_type": "markdown",
   "metadata": {
    "id": "RZGOBZSub8es"
   },
   "source": [
    "7. Add two list into one list which are given below and print the final list.\n",
    "> Answer: [1, 2, 3, 4, 5, 6, 7, 8, 9, 10]\n",
    "\n"
   ]
  },
  {
   "cell_type": "code",
   "execution_count": null,
   "metadata": {
    "id": "kVzRSSTBdAYq"
   },
   "outputs": [],
   "source": [
    "list1 = [1, 2, 3, 4, 5]\n",
    "list2 = [6, 7, 8, 9, 10]\n",
    "# Write your code from here\n"
   ]
  },
  {
   "cell_type": "markdown",
   "metadata": {
    "id": "BykxUXpHdKx-"
   },
   "source": [
    "8. Take a number between 0 to 10 from user and check whether that number is available in the below list or not."
   ]
  },
  {
   "cell_type": "code",
   "execution_count": null,
   "metadata": {
    "id": "pubdq6mAdKM3"
   },
   "outputs": [],
   "source": [
    "z = [5, 2, 0, 4, 7, 1]\n",
    "# Write your code from here\n"
   ]
  }
 ],
 "metadata": {
  "colab": {
   "collapsed_sections": [],
   "name": "HomeAssig._1.ipynb",
   "provenance": []
  },
  "kernelspec": {
   "display_name": "Python 3",
   "language": "python",
   "name": "python3"
  },
  "language_info": {
   "codemirror_mode": {
    "name": "ipython",
    "version": 3
   },
   "file_extension": ".py",
   "mimetype": "text/x-python",
   "name": "python",
   "nbconvert_exporter": "python",
   "pygments_lexer": "ipython3",
   "version": "3.8.8"
  }
 },
 "nbformat": 4,
 "nbformat_minor": 1
}
