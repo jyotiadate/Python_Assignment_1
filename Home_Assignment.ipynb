{
 "cells": [
  {
   "cell_type": "markdown",
   "metadata": {
    "id": "x6BAlryiT1Km"
   },
   "source": [
    "1. Complete the below code to print out the data types of following variables."
   ]
  },
  {
   "cell_type": "code",
   "execution_count": 2,
   "metadata": {
    "id": "Uoo0h2aQT7Ms",
    "scrolled": true
   },
   "outputs": [
    {
     "name": "stdout",
     "output_type": "stream",
     "text": [
      "<class 'int'>\n",
      "<class 'float'>\n",
      "<class 'str'>\n"
     ]
    }
   ],
   "source": [
    "x = 56\n",
    "y = 35.2\n",
    "z = 'Decodr Technologies'\n",
    "# Write your code from here\n",
    "print(type(x))\n",
    "print(type(y))\n",
    "print(type(z))"
   ]
  },
  {
   "cell_type": "markdown",
   "metadata": {
    "id": "h26GNOcyUjkb"
   },
   "source": [
    "2. Print out the output using the given variable as follows: **The cost of 4 items of price 30 each is 120**"
   ]
  },
  {
   "cell_type": "code",
   "execution_count": 3,
   "metadata": {
    "id": "o5XeHyVBV_5q"
   },
   "outputs": [
    {
     "name": "stdout",
     "output_type": "stream",
     "text": [
      "120\n"
     ]
    }
   ],
   "source": [
    "total_items = 4\n",
    "item_price = 30\n",
    "total_cost = 120\n",
    "# Write your code from here\n",
    "total_cost=total_items*item_price\n",
    "print(total_cost)"
   ]
  },
  {
   "cell_type": "markdown",
   "metadata": {
    "id": "vCROVHI_WB5X"
   },
   "source": [
    "3. Write a code which takes a person name, age, height, weight and store them in a form of list."
   ]
  },
  {
   "cell_type": "code",
   "execution_count": 11,
   "metadata": {
    "id": "tuM_d52QWkJp"
   },
   "outputs": [
    {
     "name": "stdout",
     "output_type": "stream",
     "text": [
      "<class 'list'>\n"
     ]
    }
   ],
   "source": [
    "# Write your code from here\n",
    "person=[\"Jyoti adate\",23,5.5,60]\n",
    "print(type(person))"
   ]
  },
  {
   "cell_type": "markdown",
   "metadata": {
    "id": "yh8sT2yeWlSw"
   },
   "source": [
    "4. Write a code to count the number of characters in this given string below:"
   ]
  },
  {
   "cell_type": "code",
   "execution_count": 15,
   "metadata": {
    "id": "DoZ3vSoCXBg3"
   },
   "outputs": [
    {
     "name": "stdout",
     "output_type": "stream",
     "text": [
      "32\n"
     ]
    }
   ],
   "source": [
    "string = 'Welcome to Decodr Technologies'\n",
    "# Write your code from here\n",
    "print(len(string))"
   ]
  },
  {
   "cell_type": "markdown",
   "metadata": {
    "id": "mVTmfCjMXL93"
   },
   "source": [
    "5. From the given string below, extract mobile number only."
   ]
  },
  {
   "cell_type": "code",
   "execution_count": 9,
   "metadata": {
    "id": "vssCnptuXyWK"
   },
   "outputs": [
    {
     "name": "stdout",
     "output_type": "stream",
     "text": [
      "Mobile Number is:[8594382256]\n"
     ]
    }
   ],
   "source": [
    "z = 'Hello! My name is Yaman and my mobile number is 8594382256'\n",
    "# Write your code from here\n",
    "result=[int(i) for i in z.split() if i.isdigit()]\n",
    "print(\"Mobile Number is:\"+str(result))"
   ]
  },
  {
   "cell_type": "markdown",
   "metadata": {
    "id": "ajliHj48YCi8"
   },
   "source": [
    "6. Take 3 numbers from user and print the greatest number between them."
   ]
  },
  {
   "cell_type": "code",
   "execution_count": 6,
   "metadata": {
    "id": "GEfn3Nn9YivM"
   },
   "outputs": [
    {
     "name": "stdout",
     "output_type": "stream",
     "text": [
      "Enter first number20\n",
      "Enter second number90\n",
      "Enter third number900\n",
      "c is a largest number\n"
     ]
    }
   ],
   "source": [
    "# Write your code from here\n",
    "a=int(input(\"Enter first number\"))\n",
    "b=int(input(\"Enter second number\"))\n",
    "c=int(input(\"Enter third number\"))\n",
    "if(a>b)and(a>c):\n",
    "    print(\"a is a largest number \")\n",
    "elif(b>a)and(b>c):\n",
    "    print(\"b is a largest number\")\n",
    "else:\n",
    "    print(\"c is a largest number\")\n"
   ]
  },
  {
   "cell_type": "markdown",
   "metadata": {
    "id": "RZGOBZSub8es"
   },
   "source": [
    "7. Add two list into one list which are given below and print the final list.\n",
    "> Answer: [1, 2, 3, 4, 5, 6, 7, 8, 9, 10]\n",
    "\n"
   ]
  },
  {
   "cell_type": "code",
   "execution_count": 34,
   "metadata": {
    "id": "kVzRSSTBdAYq"
   },
   "outputs": [
    {
     "name": "stdout",
     "output_type": "stream",
     "text": [
      "[1, 2, 3, 4, 5, 6, 7, 8, 9, 10]\n",
      "<class 'list'>\n"
     ]
    }
   ],
   "source": [
    "list1 = [1, 2, 3, 4, 5]\n",
    "list2 = [6, 7, 8, 9, 10]\n",
    "# Write your code from here\n",
    "list=list1+list2\n",
    "print(list)\n",
    "print(type(list))\n"
   ]
  },
  {
   "cell_type": "markdown",
   "metadata": {
    "id": "BykxUXpHdKx-"
   },
   "source": [
    "8. Take a number between 0 to 10 from user and check whether that number is available in the below list or not."
   ]
  },
  {
   "cell_type": "code",
   "execution_count": 21,
   "metadata": {
    "id": "pubdq6mAdKM3"
   },
   "outputs": [
    {
     "name": "stdout",
     "output_type": "stream",
     "text": [
      "Enter a number: 2\n",
      " number is available in the below list\n"
     ]
    }
   ],
   "source": [
    "z = [5, 2, 0, 4, 7, 1]\n",
    "# Write your code from here\n",
    "num = float(input(\"Enter a number: \")) \n",
    "\n",
    "if num in z:\n",
    "    print(\" number is available in the below list\") \n",
    "else:\n",
    "    print(\" number is not available in the below list\")\n",
    "\n",
    "    \n",
    "   "
   ]
  },
  {
   "cell_type": "code",
   "execution_count": null,
   "metadata": {},
   "outputs": [],
   "source": []
  },
  {
   "cell_type": "code",
   "execution_count": null,
   "metadata": {},
   "outputs": [],
   "source": []
  },
  {
   "cell_type": "code",
   "execution_count": null,
   "metadata": {},
   "outputs": [],
   "source": []
  }
 ],
 "metadata": {
  "colab": {
   "collapsed_sections": [],
   "name": "HomeAssig._1.ipynb",
   "provenance": []
  },
  "kernelspec": {
   "display_name": "Python 3",
   "language": "python",
   "name": "python3"
  },
  "language_info": {
   "codemirror_mode": {
    "name": "ipython",
    "version": 3
   },
   "file_extension": ".py",
   "mimetype": "text/x-python",
   "name": "python",
   "nbconvert_exporter": "python",
   "pygments_lexer": "ipython3",
   "version": "3.8.8"
  }
 },
 "nbformat": 4,
 "nbformat_minor": 1
}
