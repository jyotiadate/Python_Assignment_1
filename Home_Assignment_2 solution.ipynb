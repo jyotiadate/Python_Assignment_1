{
 "cells": [
  {
   "cell_type": "markdown",
   "metadata": {
    "id": "Ss4NtxX0hK0x"
   },
   "source": [
    "Que-1) Take a number between 0 to 10 from user and Check if a given number already exists in a dictionary as a key or not. Here is the dictionary.\n",
    "\n",
    "dictionaryName = {1: 10, 2: 20, 3: 30, 4: 40, 5: 50, 6: 60}\n"
   ]
  },
  {
   "cell_type": "code",
   "execution_count": 30,
   "metadata": {},
   "outputs": [
    {
     "name": "stdout",
     "output_type": "stream",
     "text": [
      "Enter a number between 0 to 10 3\n",
      "Key is in the dictionary\n"
     ]
    }
   ],
   "source": [
    "dictionaryName = {1: 10, 2: 20, 3: 30, 4: 40, 5: 50, 6: 60}\n",
    "num = int(input(\"Enter a number between 0 to 10 \"))\n",
    "\n",
    "if num in dictionaryName:\n",
    "    print(\"Key is in the dictionary\")\n",
    "    \n",
    "else:\n",
    "    print(\"Key is not in the dictionary\")"
   ]
  },
  {
   "cell_type": "markdown",
   "metadata": {
    "id": "lTXB6AIxht5F"
   },
   "source": [
    "Que-2) Write a Python script to concatenate following dictionaries to create a new one.\n",
    "\n",
    "dic1={1:10, 2:20}, dic2={3:30, 4:40}, dic3={5:50,6:60}\n"
   ]
  },
  {
   "cell_type": "code",
   "execution_count": 31,
   "metadata": {},
   "outputs": [
    {
     "data": {
      "text/plain": [
       "{1: 10, 2: 20, 3: 30, 4: 40, 5: 50, 6: 60}"
      ]
     },
     "execution_count": 31,
     "metadata": {},
     "output_type": "execute_result"
    }
   ],
   "source": [
    "dic1={1:10, 2:20}\n",
    "dic2={3:30, 4:40}\n",
    "dic3={5:50,6:60}\n",
    "dic1.update(dic2)\n",
    "dic1.update(dic3)\n",
    "dic1"
   ]
  },
  {
   "cell_type": "code",
   "execution_count": 32,
   "metadata": {},
   "outputs": [
    {
     "name": "stdout",
     "output_type": "stream",
     "text": [
      "{1: 10, 2: 20, 3: 30, 4: 40, 5: 50, 6: 60}\n"
     ]
    }
   ],
   "source": [
    "dic1={1:10, 2:20}\n",
    "dic2={3:30, 4:40}\n",
    "dic3={5:50,6:60}\n",
    "dic4 = {}\n",
    "for d in (dic1, dic2, dic3): dic4.update(d)\n",
    "print(dic4)"
   ]
  },
  {
   "cell_type": "code",
   "execution_count": 33,
   "metadata": {},
   "outputs": [
    {
     "name": "stdout",
     "output_type": "stream",
     "text": [
      "{1: 10, 2: 20, 3: 30, 4: 40, 5: 50, 6: 60}\n"
     ]
    }
   ],
   "source": [
    "dic1={1:10, 2:20}\n",
    "dic2={3:30, 4:40}\n",
    "dic3={5:50,6:60}\n",
    "dic4={}\n",
    "for d in (dic1,dic2,dic3):dic4.update(d)\n",
    "print(dic4)"
   ]
  },
  {
   "cell_type": "markdown",
   "metadata": {
    "id": "7i5A3TmQh9Jd"
   },
   "source": [
    "Que-3) Create a Dictionay where you have to take 5 numbers from user and store them as key, and their value should be square of those keys.\n",
    "\n",
    "Example: If user enters these 5 numbers: 2,3,4,5,6, then your dictionay should look like this:\n",
    "\n",
    "result = {2:4, 3:9, 4:16, 5:25, 6:36}"
   ]
  },
  {
   "cell_type": "code",
   "execution_count": 34,
   "metadata": {
    "id": "sX7ITeE8iaiw"
   },
   "outputs": [
    {
     "name": "stdout",
     "output_type": "stream",
     "text": [
      "{2: 4, 3: 9, 4: 16, 5: 25, 6: 36}\n"
     ]
    }
   ],
   "source": [
    "d=dict()\n",
    "for x in range(2,7):\n",
    "    d[x]=x**2\n",
    "print(d)"
   ]
  },
  {
   "cell_type": "code",
   "execution_count": 35,
   "metadata": {},
   "outputs": [
    {
     "name": "stdout",
     "output_type": "stream",
     "text": [
      "Enter a key which you want to be add in the dictionay 4\n",
      "Enter a key which you want to be add in the dictionay 6\n",
      "Enter a key which you want to be add in the dictionay 2\n",
      "Enter a key which you want to be add in the dictionay 8\n",
      "Enter a key which you want to be add in the dictionay 12\n"
     ]
    },
    {
     "data": {
      "text/plain": [
       "{4: 16, 6: 36, 2: 4, 8: 64, 12: 144}"
      ]
     },
     "execution_count": 35,
     "metadata": {},
     "output_type": "execute_result"
    }
   ],
   "source": [
    "Key_Num1 = int(input(\"Enter a key which you want to be add in the dictionay \"))\n",
    "Key_Num2 = int(input(\"Enter a key which you want to be add in the dictionay \"))\n",
    "Key_Num3 = int(input(\"Enter a key which you want to be add in the dictionay \"))\n",
    "Key_Num4 = int(input(\"Enter a key which you want to be add in the dictionay \"))\n",
    "Key_Num5 = int(input(\"Enter a key which you want to be add in the dictionay \"))\n",
    "\n",
    "value_1 = (Key_Num1)**2\n",
    "value_2 = (Key_Num2)**2\n",
    "value_3 = (Key_Num3)**2\n",
    "value_4 = (Key_Num4)**2\n",
    "value_5 = (Key_Num5)**2\n",
    "\n",
    "Dic1 = {Key_Num1 : value_1, Key_Num2 : value_2, Key_Num3 :value_3, Key_Num4 :value_4, Key_Num5 :value_5}\n",
    "Dic1"
   ]
  },
  {
   "cell_type": "code",
   "execution_count": 36,
   "metadata": {},
   "outputs": [
    {
     "name": "stdout",
     "output_type": "stream",
     "text": [
      "Enter a number: 4\n",
      "Enter a number: 7\n",
      "Enter a number: 9\n",
      "Enter a number: 12\n",
      "Enter a number: 13\n",
      "{4: 16, 7: 49, 9: 81, 12: 144, 13: 169}\n"
     ]
    }
   ],
   "source": [
    "result = {}\n",
    "for i in range(5):\n",
    "    num = int(input('Enter a number: '))\n",
    "    result[num]=num**2\n",
    "\n",
    "print(result)"
   ]
  },
  {
   "cell_type": "markdown",
   "metadata": {
    "id": "E7EpFyFPims3"
   },
   "source": [
    "Que-4) Find numbers which have 13 as factor for below list: \n",
    "\n",
    "numbers = [13, 5, 9, 25, 65, 71, 81, 91]\n"
   ]
  },
  {
   "cell_type": "code",
   "execution_count": 38,
   "metadata": {},
   "outputs": [
    {
     "name": "stdout",
     "output_type": "stream",
     "text": [
      "Numbers which are factors of 13 are :  13\n",
      "Numbers which are factors of 13 are :  65\n",
      "Numbers which are factors of 13 are :  91\n"
     ]
    }
   ],
   "source": [
    "numbers = [13, 5, 9, 25, 65, 71, 81, 91]\n",
    "\n",
    "for i in numbers : \n",
    "    if i % 13 == 0:\n",
    "        print(\"Numbers which are factors of 13 are : \", i)"
   ]
  },
  {
   "cell_type": "code",
   "execution_count": 39,
   "metadata": {},
   "outputs": [
    {
     "name": "stdout",
     "output_type": "stream",
     "text": [
      "13\n",
      "65\n",
      "91\n"
     ]
    }
   ],
   "source": [
    "lis = [13, 5, 9, 25, 65, 71, 81, 91]\n",
    "for i in lis:\n",
    "    if i%13==0:\n",
    "        print(i)\n"
   ]
  },
  {
   "cell_type": "markdown",
   "metadata": {
    "id": "7p0iHLF3i1zN"
   },
   "source": [
    "Que-5) Given a list of words, tell if they are palindrome or not.\n",
    "\n",
    "palindrome_word_list = ['121', 'naman', '551', 'loop', 'LOL', 'Madam', '66c66', 'SOON', 'noon']\n",
    "\n",
    "If a particular element in a given list is palindrome, then print that element followed by 'YES' otherwise 'NO'.\n"
   ]
  },
  {
   "cell_type": "code",
   "execution_count": 40,
   "metadata": {},
   "outputs": [
    {
     "name": "stdout",
     "output_type": "stream",
     "text": [
      "Length of the List is :  9\n",
      "121  ============= YES\n",
      "naman  ============= YES\n",
      "551  ============ NO\n",
      "loop  ============ NO\n",
      "LOL  ============= YES\n",
      "Madam  ============ NO\n",
      "66c66  ============= YES\n",
      "SOON  ============ NO\n",
      "noon  ============= YES\n"
     ]
    }
   ],
   "source": [
    "palindrome_word_list = ['121', 'naman', '551', 'loop', 'LOL', 'Madam', '66c66', 'SOON', 'noon']\n",
    "\n",
    "length = len(palindrome_word_list)\n",
    "print(\"Length of the List is : \", length)\n",
    "def check_palindrome(palindrome_word_list):\n",
    "    return palindrome_word_list == palindrome_word_list[::-1]\n",
    "for word in range(0, length):\n",
    "    result = palindrome_word_list[word]\n",
    "    result_palindrome = check_palindrome(result)\n",
    "    if result_palindrome:\n",
    "        print(result, \" ============= YES\")\n",
    "    else:\n",
    "        print(result, \" ============ NO\")"
   ]
  },
  {
   "cell_type": "code",
   "execution_count": 41,
   "metadata": {
    "id": "5cQvpoO8jDzf"
   },
   "outputs": [
    {
     "name": "stdout",
     "output_type": "stream",
     "text": [
      "121 : YES\n",
      "naman : YES\n",
      "551 : NO\n",
      "loop : NO\n",
      "LOL : YES\n",
      "Madam : NO\n",
      "66c66 : YES\n",
      "SOON : NO\n",
      "NOON : YES\n"
     ]
    }
   ],
   "source": [
    "pal_wor_lis = ['121','naman','551','loop','LOL','Madam','66c66','SOON','NOON']\n",
    "for i in pal_wor_lis:\n",
    "    if(i == i[::-1]):\n",
    "        print(f\"{i} : YES\")\n",
    "    else:\n",
    "        print(f\"{i} : NO\")"
   ]
  },
  {
   "cell_type": "code",
   "execution_count": 53,
   "metadata": {},
   "outputs": [
    {
     "name": "stdout",
     "output_type": "stream",
     "text": [
      "mhtyR\n"
     ]
    }
   ],
   "source": [
    "name = 'Rythm'\n",
    "print(name[::-1])"
   ]
  },
  {
   "cell_type": "markdown",
   "metadata": {
    "id": "S6oBLjELjD98"
   },
   "source": [
    "Que-6) Below, product and their prices are given in different list. Convert them into dictionary in such a way that product item will be keys and their prices as values.\n",
    "\n",
    "Ask a user from given a list of products, which product he would like to buy. You have to add 20% gst on electronic products and 5% on non-electronic and show them the final price, according to the demand.\n",
    "\n",
    "product = [\"gold\", \"mobile\", \"refrigerator\", \"ac\", \"coat\", \"shirt\", \"nail polish\", \"shoes\"]\n",
    "\n",
    "price = [40000, 11999, 5459, 7899, 849, 659, 399, 4499]\n"
   ]
  },
  {
   "cell_type": "code",
   "execution_count": 17,
   "metadata": {},
   "outputs": [
    {
     "name": "stdout",
     "output_type": "stream",
     "text": [
      "{'gold': 40000, 'mobile': 11999, 'refrigerator': 5459, 'ac': 7899, 'coat': 849, 'shirt': 659, 'nail polish': 399, 'shoes': 4499}\n",
      "Enter which product you want to buy: refrigerator\n",
      "Your final price is: 6550.8\n"
     ]
    }
   ],
   "source": [
    "product = [\"gold\", \"mobile\", \"refrigerator\", \"ac\", \"coat\", \"shirt\", \"nail polish\", \"shoes\"]\n",
    "price = [40000, 11999, 5459, 7899, 849, 659, 399, 4499]\n",
    "\n",
    "prod_description = dict()\n",
    "\n",
    "for i in range(len(product)): #range(8)\n",
    "    prod_description[product[i]] = price[i]\n",
    "    \n",
    "print(prod_description)\n",
    "\n",
    "prod_req = input('Enter which product you want to buy: ')\n",
    "\n",
    "final_price = prod_description[prod_req] + prod_description[prod_req]*0.2\n",
    "\n",
    "print('Your final price is:', final_price)"
   ]
  },
  {
   "cell_type": "markdown",
   "metadata": {
    "id": "RJTxs3eSlF0C"
   },
   "source": [
    "Que-7) Take the name of 4 employees from user and add them to the list 'Employees'."
   ]
  },
  {
   "cell_type": "code",
   "execution_count": 20,
   "metadata": {
    "id": "kugx_Q3Ulj1E"
   },
   "outputs": [
    {
     "name": "stdout",
     "output_type": "stream",
     "text": [
      "Enter the name of Employee 1 : Saurabh\n",
      "Enter the name of Employee 2 : Ravi\n",
      "Enter the name of Employee 3 : Rhythm\n",
      "Enter the name of Employee 4 : Nabanita\n",
      "['Saurabh', 'Ravi', 'Rhythm', 'Nabanita']\n"
     ]
    }
   ],
   "source": [
    "Employees = []\n",
    "for i in range(4):\n",
    "    Employees.append(input(f\"Enter the name of Employee {i+1} : \"))\n",
    "print(Employees)"
   ]
  },
  {
   "cell_type": "markdown",
   "metadata": {
    "id": "XVkqD-zulkAD"
   },
   "source": [
    "Que-8) Write a Python program to find those numbers which are divisible by 7 and multiple of 5, between 1500 and 2700 (both included)"
   ]
  },
  {
   "cell_type": "code",
   "execution_count": 25,
   "metadata": {
    "id": "771fsLKzl_Yb"
   },
   "outputs": [
    {
     "name": "stdout",
     "output_type": "stream",
     "text": [
      "[1505, 1540, 1575, 1610, 1645, 1680, 1715, 1750, 1785, 1820, 1855, 1890, 1925, 1960, 1995, 2030, 2065, 2100, 2135, 2170, 2205, 2240, 2275, 2310, 2345, 2380, 2415, 2450, 2485, 2520, 2555, 2590, 2625, 2660, 2695]\n"
     ]
    }
   ],
   "source": [
    "num=[]\n",
    "\n",
    "for x in range(1500, 2701):\n",
    "    if (x%7==0) and (x%5==0):\n",
    "        num.append(x)\n",
    "        \n",
    "print (num)"
   ]
  },
  {
   "cell_type": "markdown",
   "metadata": {
    "id": "EToeU4Grl_i1"
   },
   "source": [
    "Que-9) Write a program to check whether a person should go out for a tour or not. You have to take the day and temperature from the user to decide. Print 'Yes' or 'No' according to the condition.\n",
    "\n",
    "Condition For going tour \n",
    "1. The Day Should be Saturday or Sunday. \n",
    "2. The Day temp should be between 20 C to 30 C"
   ]
  },
  {
   "cell_type": "code",
   "execution_count": 26,
   "metadata": {
    "id": "zB31V61tmqga"
   },
   "outputs": [
    {
     "name": "stdout",
     "output_type": "stream",
     "text": [
      "Enter the Today's Day in Capital letter SATURDAY\n",
      "Enter the Today's temperature 34\n",
      "No,you can not go\n"
     ]
    }
   ],
   "source": [
    "Day_1 =str(input(\"Enter the Today's Day in Capital letter \"))\n",
    "Day_Temp = int(input(\"Enter the Today's temperature \"))\n",
    "\n",
    "if (Day_1==\"SATURDAY\" or Day_1==\"SUNDAY\") and (Day_Temp<=30 and Day_Temp>=20):\n",
    "    print(\"Yes,you can Go\")\n",
    "           \n",
    "else:\n",
    "    print(\"No,you can not go\")\n"
   ]
  },
  {
   "cell_type": "code",
   "execution_count": null,
   "metadata": {},
   "outputs": [],
   "source": [
    "day=str(input(\"Enter the day: \"))\n",
    "temp=float(input(\"Enter temperature :\"))\n",
    "if (day==\"sunday\") or (day==\"saturday\"):       \n",
    "        if (temp==20 and temp<=30):\n",
    "            print ('Go for a tour')\n",
    "        else:\n",
    "            print(\"Don't go for a tour\")\n",
    "else:\n",
    "        print(\"No Don't go for a tour \")"
   ]
  },
  {
   "cell_type": "markdown",
   "metadata": {
    "id": "3pEBL-Kwm0UF"
   },
   "source": [
    "Que-10) From the user take two numbers as start and end, and print the prime numbers between the given range (both limits exclusive). (This question is optional)."
   ]
  },
  {
   "cell_type": "code",
   "execution_count": 27,
   "metadata": {},
   "outputs": [
    {
     "name": "stdout",
     "output_type": "stream",
     "text": [
      "Enter starting value: 13\n",
      "Enter ending value:30\n",
      "[17, 19, 23, 29]\n"
     ]
    }
   ],
   "source": [
    "start = int(input('Enter starting value: '))\n",
    "end = int(input('Enter ending value:'))\n",
    "\n",
    "prime = []\n",
    "\n",
    "for x in range(start+1,end):\n",
    "    count = 0\n",
    "    for y in range(2,x):     \n",
    "        if x % y == 0:\n",
    "            count+=1\n",
    "        else:\n",
    "            continue\n",
    "    \n",
    "    if count==0:\n",
    "        prime.append(x)\n",
    "\n",
    "print(prime)"
   ]
  },
  {
   "cell_type": "markdown",
   "metadata": {},
   "source": [
    "## for loop"
   ]
  },
  {
   "cell_type": "markdown",
   "metadata": {},
   "source": [
    "### Thing involved in for loop:\n",
    "1. initialized variable\n",
    "2. condition\n",
    "3. increment/decrement"
   ]
  },
  {
   "cell_type": "code",
   "execution_count": 1,
   "metadata": {},
   "outputs": [
    {
     "name": "stdout",
     "output_type": "stream",
     "text": [
      "4\n",
      "7\n",
      "10\n"
     ]
    }
   ],
   "source": [
    "for x in range(4,12,3):\n",
    "    print(x)"
   ]
  },
  {
   "cell_type": "code",
   "execution_count": null,
   "metadata": {},
   "outputs": [],
   "source": []
  },
  {
   "cell_type": "code",
   "execution_count": null,
   "metadata": {},
   "outputs": [],
   "source": []
  },
  {
   "cell_type": "code",
   "execution_count": 2,
   "metadata": {},
   "outputs": [
    {
     "name": "stdout",
     "output_type": "stream",
     "text": [
      "1\n",
      "2\n",
      "3\n",
      "4\n",
      "5\n",
      "ravi\n"
     ]
    }
   ],
   "source": [
    "a= [1,2,3,4,5,'ravi']\n",
    "for i in a:\n",
    "    print(i)"
   ]
  },
  {
   "cell_type": "code",
   "execution_count": 3,
   "metadata": {},
   "outputs": [
    {
     "name": "stdout",
     "output_type": "stream",
     "text": [
      "0\n",
      "1\n",
      "2\n",
      "3\n",
      "4\n"
     ]
    }
   ],
   "source": [
    "i=0      #initialized\n",
    "while (i<5):     #condition\n",
    "    print(i)\n",
    "    i+=1 #increment/decrement"
   ]
  },
  {
   "cell_type": "markdown",
   "metadata": {},
   "source": [
    "## Functions:  A set of codes which are reusable.\n",
    "1. Define a function\n",
    "   \n",
    "   To define a function, these are the things required:\n",
    "   \n",
    "      a) Keyword 'def'\n",
    "      \n",
    "      b) Name of a function\n",
    "      \n",
    "      c) Parameters (arguments)\n",
    "      \n",
    "      d) set of codes to execute\n",
    "      \n",
    "      \n",
    "2. To call a function\n",
    "   \n",
    "   To call a function, you have to write the name of the function using parameters(if defined)."
   ]
  },
  {
   "cell_type": "code",
   "execution_count": 9,
   "metadata": {},
   "outputs": [],
   "source": [
    "def comparison(a, b, c):\n",
    "    if a>b and a>c:\n",
    "        print(a, 'is greatest')\n",
    "    elif b>a and b>c:\n",
    "        print(b, 'is greatest')\n",
    "    else:\n",
    "        print(c, 'is greatest')"
   ]
  },
  {
   "cell_type": "code",
   "execution_count": 10,
   "metadata": {},
   "outputs": [
    {
     "name": "stdout",
     "output_type": "stream",
     "text": [
      "7 is greatest\n"
     ]
    }
   ],
   "source": [
    "comparison(4,5,7)"
   ]
  },
  {
   "cell_type": "code",
   "execution_count": 12,
   "metadata": {},
   "outputs": [
    {
     "name": "stdout",
     "output_type": "stream",
     "text": [
      "67 is greatest\n"
     ]
    }
   ],
   "source": [
    "comparison(67, 12, 45)"
   ]
  },
  {
   "cell_type": "code",
   "execution_count": null,
   "metadata": {},
   "outputs": [],
   "source": []
  },
  {
   "cell_type": "code",
   "execution_count": null,
   "metadata": {},
   "outputs": [],
   "source": []
  },
  {
   "cell_type": "code",
   "execution_count": null,
   "metadata": {},
   "outputs": [],
   "source": []
  },
  {
   "cell_type": "code",
   "execution_count": null,
   "metadata": {},
   "outputs": [],
   "source": []
  }
 ],
 "metadata": {
  "colab": {
   "name": "Home_assign_3.ipynb",
   "provenance": []
  },
  "kernelspec": {
   "display_name": "Python 3",
   "language": "python",
   "name": "python3"
  },
  "language_info": {
   "codemirror_mode": {
    "name": "ipython",
    "version": 3
   },
   "file_extension": ".py",
   "mimetype": "text/x-python",
   "name": "python",
   "nbconvert_exporter": "python",
   "pygments_lexer": "ipython3",
   "version": "3.8.8"
  }
 },
 "nbformat": 4,
 "nbformat_minor": 1
}
