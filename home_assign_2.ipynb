{
 "cells": [
  {
   "cell_type": "markdown",
   "metadata": {
    "id": "Ss4NtxX0hK0x"
   },
   "source": [
    "Que-1) Take a number between 0 to 10 from user and Check if a given number already exists in a dictionary as a key or not. Here is the dictionary.\n",
    "\n",
    "dictionaryName = {1: 10, 2: 20, 3: 30, 4: 40, 5: 50, 6: 60}\n"
   ]
  },
  {
   "cell_type": "code",
   "execution_count": null,
   "metadata": {
    "id": "rw2q70JMhp0S"
   },
   "outputs": [],
   "source": [
    "dictionaryName = {1: 10, 2: 20, 3: 30, 4: 40, 5: 50, 6: 60}\n",
    "user=(input(\"Enter the key\"))\n",
    "if user in dictionaryName:\n",
    "    print(\"given no are present\")\n",
    "else:\n",
    "    print(\"given no are not present\")"
   ]
  },
  {
   "cell_type": "markdown",
   "metadata": {
    "id": "lTXB6AIxht5F"
   },
   "source": [
    "Que-2) Write a Python script to concatenate following dictionaries to create a new one.\n",
    "\n",
    "dic1={1:10, 2:20}, dic2={3:30, 4:40}, dic3={5:50,6:60}\n"
   ]
  },
  {
   "cell_type": "code",
   "execution_count": null,
   "metadata": {
    "id": "xEoVlmoyh6DZ"
   },
   "outputs": [],
   "source": [
    "dic1={1:10, 2:20}\n",
    "dic2={3:30, 4:40}\n",
    "dic3={5:50,6:60}\n",
    "dict={}\n",
    "for i in (dic1,dic2,dic3):\n",
    "    print(i)\n",
    "    dict.update(i)\n",
    "print(dict)\n"
   ]
  },
  {
   "cell_type": "markdown",
   "metadata": {
    "id": "7i5A3TmQh9Jd"
   },
   "source": [
    "Que-3) Create a Dictionay where you have to take 5 numbers from user and store them as key, and their value should be square of those keys.\n",
    "\n",
    "Example: If user enters these 5 numbers: 2,3,4,5,6, then your dictionay should look like this:\n",
    "\n",
    "result = {2:4, 3:9, 4:16, 5:25, 6:36}"
   ]
  },
  {
   "cell_type": "code",
   "execution_count": null,
   "metadata": {
    "id": "sX7ITeE8iaiw"
   },
   "outputs": [],
   "source": [
    "a=int(input(\"Enter the number\"))\n",
    "b=int(input(\"Enter the number\"))\n",
    "c=int(input(\"Enter the number\"))\n",
    "d=int(input(\"Enter the number\"))\n",
    "e=int(input(\"Enter the number\"))\n",
    "z=[a,b,c,d,e]\n",
    "\n",
    "myDict =  {x:x ** 2 for x in (a,b,c,d,e)}\n",
    "print(myDict)"
   ]
  },
  {
   "cell_type": "code",
   "execution_count": null,
   "metadata": {},
   "outputs": [],
   "source": [
    "result=[]\n",
    "for i in range(5):\n",
    "    num=int(input(\"Enter a number\"))\n",
    "    result[num]=num**2\n",
    "print(result)"
   ]
  },
  {
   "cell_type": "markdown",
   "metadata": {
    "id": "E7EpFyFPims3"
   },
   "source": [
    "Que-4) Find numbers which have 13 as factor for below list: \n",
    "\n",
    "numbers = [13, 5, 9, 25, 65, 71, 81, 91]\n"
   ]
  },
  {
   "cell_type": "code",
   "execution_count": null,
   "metadata": {
    "id": "gxPcW0Yii1oj"
   },
   "outputs": [],
   "source": [
    "num=int(input(\"Enter any no\"))\n",
    "fact=[]\n",
    "for i in range(1,num+1):\n",
    "    if num%i==0:\n",
    "        fact.append(i)\n",
    "print (\"Factors of {} = {}\".format(num,fact))"
   ]
  },
  {
   "cell_type": "code",
   "execution_count": null,
   "metadata": {},
   "outputs": [],
   "source": [
    "for i in number:\n",
    "    if i % 13"
   ]
  },
  {
   "cell_type": "markdown",
   "metadata": {
    "id": "7p0iHLF3i1zN"
   },
   "source": [
    "Que-5) Given a list of words, tell if they are palindrome or not.\n",
    "\n",
    "palindrome_word_list = ['121', 'naman', '551', 'loop', 'LOL', 'Madam', '66c66', 'SOON', 'noon']\n",
    "\n",
    "If a particular element in a given list is palindrome, then print that element followed by 'YES' otherwise 'NO'.\n"
   ]
  },
  {
   "cell_type": "code",
   "execution_count": null,
   "metadata": {
    "id": "5cQvpoO8jDzf"
   },
   "outputs": [],
   "source": [
    "palindrome_word_list = ['121', 'naman', '551', 'loop', 'LOL', 'Madam', '66c66', 'SOON', 'noon']\n",
    "if palindrome_word_list==palindrome_word_list[::-1]: \n",
    "    print(\"Given String is palindrome\")\n",
    "else:\n",
    "    print(\"Given String is not palindrome\")"
   ]
  },
  {
   "cell_type": "code",
   "execution_count": null,
   "metadata": {},
   "outputs": [],
   "source": []
  },
  {
   "cell_type": "markdown",
   "metadata": {
    "id": "S6oBLjELjD98"
   },
   "source": [
    "Que-6) Below, product and their prices are given in different list. Convert them into dictionary in such a way that product item will be keys and their prices as values.\n",
    "\n",
    "Ask a user from given a list of products, which product he would like to buy. You have to add 20% gst on electronic products and 5% on non-electronic and show them the final price, according to the demand.\n",
    "\n",
    "product = [\"gold\", \"mobile\", \"refrigerator\", \"ac\", \"coat\", \"shirt\", \"nail polish\", \"shoes\"]\n",
    "\n",
    "price = [40000, 11999, 5459, 7899, 849, 659, 399, 4499]\n"
   ]
  },
  {
   "cell_type": "code",
   "execution_count": 2,
   "metadata": {},
   "outputs": [
    {
     "name": "stdout",
     "output_type": "stream",
     "text": [
      "{'gold': 40000, 'mobile': 11999, 'refrigerator': 5459, 'ac': 7899, 'coat': 849, 'shirt': 659, 'nail polish': 399, 'shoes': 4499}\n",
      "Enter the item you want to buy:gold\n",
      "42000.0\n"
     ]
    }
   ],
   "source": [
    "product = [\"gold\", \"mobile\", \"refrigerator\", \"ac\", \"coat\", \"shirt\", \"nail polish\", \"shoes\"]\n",
    "price = [40000, 11999, 5459, 7899, 849, 659, 399, 4499]\n",
    "Dict={}\n",
    "for i in range (len(product)):\n",
    "    Dict[product[i]]=price[i]\n",
    "print(Dict)\n",
    "x=input(\"Enter the item you want to buy:\")\n",
    "if (x=='mobile' or x=='refrigerator' or x=='ac'):\n",
    "    finalprice=(Dict[x]+Dict[x]*20/100)\n",
    "else:\n",
    "    finalprice=(Dict[x]+Dict[x]*5/100)  \n",
    "print(finalprice)\n"
   ]
  },
  {
   "cell_type": "markdown",
   "metadata": {
    "id": "RJTxs3eSlF0C"
   },
   "source": [
    "Que-7) Take the name of 4 employees from user and add them to the list 'Employees'."
   ]
  },
  {
   "cell_type": "code",
   "execution_count": null,
   "metadata": {
    "id": "kugx_Q3Ulj1E"
   },
   "outputs": [],
   "source": [
    "#li=input(\"ENter the first employee name\")\n",
    "#li1=input(\"ENter the second employee name\")\n",
    "#li2=input(\"ENter the third employee name\")\n",
    "#li3=input(\"ENter the fourth employee name\")\n",
    "#Employee_name=li,li1,li2,li3\n",
    "#list1=[]\n",
    "#list1.append(Employee_name)\n",
    "#print(list1)\n",
    "#print(type(list1))\n",
    "Employee_name=['Amit',\"Raj\",\"Gauri\",\"Anuj\"]\n",
    "print(Employee_name)\n",
    "Employee_name.append('Employees')\n",
    "print(Employee_name)"
   ]
  },
  {
   "cell_type": "code",
   "execution_count": null,
   "metadata": {},
   "outputs": [],
   "source": [
    "Employees = []\n",
    "for i in range(4):\n",
    "    Employees.append(input(f\"Enter the name of Employee {i+1} : \"))\n",
    "print(Employees)\n"
   ]
  },
  {
   "cell_type": "code",
   "execution_count": null,
   "metadata": {},
   "outputs": [],
   "source": [
    "## example\n",
    "a=5\n",
    "print(f'value of a is {a}')"
   ]
  },
  {
   "cell_type": "markdown",
   "metadata": {
    "id": "XVkqD-zulkAD"
   },
   "source": [
    "Que-8) Write a Python program to find those numbers which are divisible by 7 and multiple of 5, between 1500 and 2700 (both included)"
   ]
  },
  {
   "cell_type": "code",
   "execution_count": null,
   "metadata": {
    "id": "771fsLKzl_Yb"
   },
   "outputs": [],
   "source": [
    "li=[]\n",
    "for i in range(1500,2700):\n",
    "    if(i%7==0)and(i%5==0):\n",
    "        li.append(i)\n",
    "print(li)\n",
    "\n",
    "\n"
   ]
  },
  {
   "cell_type": "markdown",
   "metadata": {
    "id": "EToeU4Grl_i1"
   },
   "source": [
    "Que-9) Write a program to check whether a person should go out for a tour or not. You have to take the day and temperature from the user to decide. Print 'Yes' or 'No' according to the condition.\n",
    "\n",
    "Condition For going tour \n",
    "1. The Day Should be Saturday or Sunday. \n",
    "2. The Day temp should be between 20 C to 30 C"
   ]
  },
  {
   "cell_type": "code",
   "execution_count": null,
   "metadata": {
    "id": "zB31V61tmqga"
   },
   "outputs": [],
   "source": [
    "day=input(\"Enter the day \")\n",
    "temp=int(input(\"Enter the current Temperature \"))\n",
    "if (day==\"saturday\") or (day==\"sunday\"):\n",
    "    if (temp==20) or (temp<=30):\n",
    "        print(\"yes\")\n",
    "else:\n",
    "    print(\"No\")\n",
    "\n",
    "    \n",
    "    "
   ]
  },
  {
   "cell_type": "code",
   "execution_count": 1,
   "metadata": {},
   "outputs": [
    {
     "name": "stdout",
     "output_type": "stream",
     "text": [
      "Enter the day: saunday\n",
      "Enter temperature :39\n",
      "No Don't go for a tour \n"
     ]
    }
   ],
   "source": [
    "day=str(input(\"Enter the day: \"))\n",
    "temp=float(input(\"Enter temperature :\"))\n",
    "if (day==\"sunday\") or (day==\"saturday\"):       \n",
    "        if (temp==20 and temp<=30):\n",
    "            print ('Go for a tour')\n",
    "        else:\n",
    "            print(\"Don't go for a tour\")\n",
    "else:\n",
    "        print(\"No Don't go for a tour \")"
   ]
  },
  {
   "cell_type": "markdown",
   "metadata": {
    "id": "3pEBL-Kwm0UF"
   },
   "source": [
    "Que-10) From the user take two numbers as start and end, and print the prime numbers between the given range (both limits exclusive). (This question is optional)."
   ]
  },
  {
   "cell_type": "code",
   "execution_count": null,
   "metadata": {
    "id": "6hHVcmpYncEt"
   },
   "outputs": [],
   "source": [
    "start = int(input(\"Enter range of start no : \"))  \n",
    "end = int(input(\"Enter range of end no: \"))  \n",
    "  \n",
    "for num in range(start,end):  \n",
    "   if num > 0:  \n",
    "       for i in range(2,num):  \n",
    "           if (num % i) == 0:  \n",
    "               break\n",
    "       else:  \n",
    "           print(num)  \n",
    "    "
   ]
  },
  {
   "cell_type": "code",
   "execution_count": 3,
   "metadata": {},
   "outputs": [
    {
     "name": "stdout",
     "output_type": "stream",
     "text": [
      "Enter range of start no : 1\n",
      "Enter range of end no: 20\n",
      "[2, 3, 5, 7, 11, 13, 17, 19]\n"
     ]
    }
   ],
   "source": [
    "start = int(input(\"Enter range of start no : \"))  \n",
    "end = int(input(\"Enter range of end no: \"))  \n",
    "prime=[] \n",
    "for i in range(start+1,end):\n",
    "    count=0\n",
    "    for j in range(2,i):\n",
    "        if i%j==0:\n",
    "            count+=1\n",
    "        else:\n",
    "            continue\n",
    "    if count==0:\n",
    "        prime.append(i)\n",
    "print(prime)"
   ]
  },
  {
   "cell_type": "code",
   "execution_count": null,
   "metadata": {},
   "outputs": [],
   "source": []
  }
 ],
 "metadata": {
  "colab": {
   "name": "Home_assign_3.ipynb",
   "provenance": []
  },
  "kernelspec": {
   "display_name": "Python 3",
   "language": "python",
   "name": "python3"
  },
  "language_info": {
   "codemirror_mode": {
    "name": "ipython",
    "version": 3
   },
   "file_extension": ".py",
   "mimetype": "text/x-python",
   "name": "python",
   "nbconvert_exporter": "python",
   "pygments_lexer": "ipython3",
   "version": "3.8.8"
  }
 },
 "nbformat": 4,
 "nbformat_minor": 1
}
